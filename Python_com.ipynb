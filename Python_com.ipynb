{
  "nbformat": 4,
  "nbformat_minor": 0,
  "metadata": {
    "colab": {
      "provenance": [],
      "authorship_tag": "ABX9TyNDX6PQG+nUdE3ynjju6ldJ",
      "include_colab_link": true
    },
    "kernelspec": {
      "name": "python3",
      "display_name": "Python 3"
    },
    "language_info": {
      "name": "python"
    }
  },
  "cells": [
    {
      "cell_type": "markdown",
      "metadata": {
        "id": "view-in-github",
        "colab_type": "text"
      },
      "source": [
        "<a href=\"https://colab.research.google.com/github/Ravi-2003-1206/python/blob/main/Python_com.ipynb\" target=\"_parent\"><img src=\"https://colab.research.google.com/assets/colab-badge.svg\" alt=\"Open In Colab\"/></a>"
      ]
    },
    {
      "cell_type": "code",
      "execution_count": null,
      "metadata": {
        "id": "MxtHWzWm8qTV"
      },
      "outputs": [],
      "source": []
    },
    {
      "cell_type": "markdown",
      "source": [
        "# What is python?\n",
        "\n",
        "Python is a popular programming language. It was created by Guido van Rossum, and released in 1991.\n",
        "\n",
        "\n"
      ],
      "metadata": {
        "id": "GypB5u1Q8rWS"
      }
    },
    {
      "cell_type": "markdown",
      "source": [
        "# Features\n",
        "\n",
        "1. Easy\n",
        "2. Compiler\n",
        "3. Connect Data base\n",
        "4. Shortcut program\n",
        "\n",
        "\n"
      ],
      "metadata": {
        "id": "llJCwsGg9bLA"
      }
    },
    {
      "cell_type": "markdown",
      "source": [
        "# Python comments\n",
        "\n",
        "Comments in Python begin with a hash mark ( # ) and whitespace character and continue to the end of the line.\n",
        "\n",
        "\n"
      ],
      "metadata": {
        "id": "Y-jHtaA--cEi"
      }
    },
    {
      "cell_type": "code",
      "source": [
        "# print a number\n",
        "print(25)"
      ],
      "metadata": {
        "colab": {
          "base_uri": "https://localhost:8080/"
        },
        "id": "QVzq7dUtBODu",
        "outputId": "452c6539-f58d-45a8-a198-97f4083bd6a1"
      },
      "execution_count": null,
      "outputs": [
        {
          "output_type": "stream",
          "name": "stdout",
          "text": [
            "25\n"
          ]
        }
      ]
    },
    {
      "cell_type": "markdown",
      "source": [
        "# It is a two types\n",
        "1. Single Line\n",
        "\n",
        " In Python, a single-line comment begins with the hash symbol ( # ), and the Python interpreter ignores everything that follows it on that line.\n",
        "\n",
        "\n",
        "2. Multi Line\n",
        "   \n",
        "  Python does not have a specific syntax for multiline comments as some other programming languages do. Instead, multiline comments are created by enclosing the text within triple quotes (either single quotes ''' or double quotes \").\n"
      ],
      "metadata": {
        "id": "rWcALNG7Bg8D"
      }
    },
    {
      "cell_type": "markdown",
      "source": [
        "# Keywords\n",
        "   "
      ],
      "metadata": {
        "id": "tibcLsbiDx0X"
      }
    },
    {
      "cell_type": "code",
      "source": [
        "import keyword\n",
        "#Get the list of python keywords\n",
        "python_keywords = keyword.kwlist\n",
        "#Display the list of keywords\n",
        "print(python_keywords)\n",
        "len(python_keywords)\n"
      ],
      "metadata": {
        "colab": {
          "base_uri": "https://localhost:8080/"
        },
        "id": "f_e52az9EBcH",
        "outputId": "f0003477-4e42-4bb1-b4b9-ac5c75eb5c17"
      },
      "execution_count": null,
      "outputs": [
        {
          "output_type": "stream",
          "name": "stdout",
          "text": [
            "['False', 'None', 'True', 'and', 'as', 'assert', 'async', 'await', 'break', 'class', 'continue', 'def', 'del', 'elif', 'else', 'except', 'finally', 'for', 'from', 'global', 'if', 'import', 'in', 'is', 'lambda', 'nonlocal', 'not', 'or', 'pass', 'raise', 'return', 'try', 'while', 'with', 'yield']\n"
          ]
        },
        {
          "output_type": "execute_result",
          "data": {
            "text/plain": [
              "35"
            ]
          },
          "metadata": {},
          "execution_count": 8
        }
      ]
    },
    {
      "cell_type": "markdown",
      "source": [
        "# Variables\n",
        "   \n",
        "   A variable in Python is a reserved memory location that stores data values and acts as a placeholder for information that can be recalled later in the coding process:\n",
        "    \n",
        "\n",
        "\n",
        "> Rules:\n",
        " 1. A variable name must start with a letter or the underscore character.\n",
        " 2. A variable name cannot start with a number.\n",
        " 3. A variable name can only contain alpha-numeric characters and underscores (A-z, 0-9, and _ )\n",
        " 4. Variable names are case-sensitive (age, Age and AGE are three different variables)\n",
        "\n",
        " Ex: NAME = 10\n",
        "     Name = 20\n",
        "     name = 30\n"
      ],
      "metadata": {
        "id": "jkg63E72Ggll"
      }
    },
    {
      "cell_type": "markdown",
      "source": [
        "# Types of variables\n",
        "  1. Single variable\n",
        "  2. multi varible\n",
        "\n",
        "      Multi variable two types:\n",
        "      * mutli to multi\n",
        "      * multi to one\n",
        "\n"
      ],
      "metadata": {
        "id": "S1w8-avXKd-y"
      }
    },
    {
      "cell_type": "code",
      "source": [
        "#single variable\n",
        "Ravi=2"
      ],
      "metadata": {
        "id": "WEVtpLpoLmyy"
      },
      "execution_count": null,
      "outputs": []
    },
    {
      "cell_type": "code",
      "source": [
        "#multi to multi\n",
        "x,y,z = 2,4,6\n",
        "#value assigned to x\n",
        "print(x)\n",
        "#value assigned to y\n",
        "print(y)\n",
        "#value assigned to z\n",
        "print(z)\n",
        "\n"
      ],
      "metadata": {
        "colab": {
          "base_uri": "https://localhost:8080/"
        },
        "id": "_e4-eUwLLzhT",
        "outputId": "858b7623-7022-4b9e-f5fc-4c9e2f934148"
      },
      "execution_count": null,
      "outputs": [
        {
          "output_type": "stream",
          "name": "stdout",
          "text": [
            "2\n",
            "4\n",
            "6\n"
          ]
        }
      ]
    },
    {
      "cell_type": "code",
      "source": [
        "#multi to one\n",
        "x=y=z = 2\n",
        "#value assigned to x\n",
        "print(x)\n",
        "#value assigned to y\n",
        "print(y)\n",
        "#value assigned to z\n",
        "print(z)\n"
      ],
      "metadata": {
        "colab": {
          "base_uri": "https://localhost:8080/"
        },
        "id": "v3d4XbPmuj3-",
        "outputId": "e3cf5239-8fb6-431a-bc0d-998c52be6169"
      },
      "execution_count": null,
      "outputs": [
        {
          "output_type": "stream",
          "name": "stdout",
          "text": [
            "2\n",
            "2\n",
            "2\n"
          ]
        }
      ]
    },
    {
      "cell_type": "markdown",
      "source": [
        "# Data types\n",
        "\n",
        "\n",
        "1.  Basic :\n",
        "*   integer\n",
        "*   float\n",
        "*   complex\n",
        "*   Boolean\n",
        "2.  Advance :\n",
        "*   list\n",
        "*   string\n",
        "*   tuple\n",
        "*   Dictionary\n",
        "*   set"
      ],
      "metadata": {
        "id": "J6PecxxIzwiV"
      }
    },
    {
      "cell_type": "markdown",
      "source": [
        "#Basics\n",
        "\n",
        "\n",
        "* Integer\n",
        "\n",
        "\n",
        "In Python, integers are classified into zero, positive, or negative whole numbers with no fractional part and infinite precision, such as 0, 100, -10, and so on."
      ],
      "metadata": {
        "id": "YGYSYUkX0fb9"
      }
    },
    {
      "cell_type": "code",
      "source": [
        "#int\n",
        "a = 7\n",
        "b = -7\n",
        "c = 0\n",
        "print(type(a))\n",
        "print(type(b))\n",
        "print(type(c))\n"
      ],
      "metadata": {
        "colab": {
          "base_uri": "https://localhost:8080/"
        },
        "id": "iNP0-bOP1ZlN",
        "outputId": "0104fd57-f689-4776-e761-4e1699c84191"
      },
      "execution_count": null,
      "outputs": [
        {
          "output_type": "stream",
          "name": "stdout",
          "text": [
            "<class 'int'>\n",
            "<class 'int'>\n",
            "<class 'int'>\n"
          ]
        }
      ]
    },
    {
      "cell_type": "markdown",
      "source": [
        "* Float ( Decimal value)\n",
        "\n",
        "Float is a function or reusable code in the Python programming language that converts values into floating point numbers."
      ],
      "metadata": {
        "id": "j5albR6A3FvR"
      }
    },
    {
      "cell_type": "code",
      "source": [
        "#float\n",
        "a = 7.21\n",
        "b = 2.86\n",
        "c = 75.43\n",
        "print(type(a))\n",
        "print(type(b))\n",
        "print(type(c))\n"
      ],
      "metadata": {
        "colab": {
          "base_uri": "https://localhost:8080/"
        },
        "id": "HtiVjxy63kBV",
        "outputId": "ec8bd40e-6ed9-49f9-d70e-f0525c2548e6"
      },
      "execution_count": null,
      "outputs": [
        {
          "output_type": "stream",
          "name": "stdout",
          "text": [
            "<class 'float'>\n",
            "<class 'float'>\n",
            "<class 'float'>\n"
          ]
        }
      ]
    },
    {
      "cell_type": "markdown",
      "source": [
        "* Complex ( Real number + image number)\n",
        "\n",
        "In Python, a complex number is a numeric data type that stores complex numbers."
      ],
      "metadata": {
        "id": "6y3xwMiJ4FpD"
      }
    },
    {
      "cell_type": "code",
      "source": [
        "#complex\n",
        "a = 2+9j\n",
        "b = 7+2j\n",
        "c = 8+5j\n",
        "print(type(a))\n",
        "print(type(b))\n",
        "print(type(c))\n",
        "\n",
        "\n"
      ],
      "metadata": {
        "colab": {
          "base_uri": "https://localhost:8080/"
        },
        "id": "HweWPF454W_o",
        "outputId": "137c52fc-21e9-4a08-f5cd-0b9c0e2b8e26"
      },
      "execution_count": null,
      "outputs": [
        {
          "output_type": "stream",
          "name": "stdout",
          "text": [
            "<class 'complex'>\n",
            "<class 'complex'>\n",
            "<class 'complex'>\n"
          ]
        }
      ]
    },
    {
      "cell_type": "markdown",
      "source": [
        "   * Boolean\n",
        "\n",
        "   In general, a Boolean variable can have only two values - True or False. Or in other words, if a variable can have only these two values, we say that it's a Boolean variable.\n"
      ],
      "metadata": {
        "id": "M6Z9TiZv5emc"
      }
    },
    {
      "cell_type": "code",
      "source": [
        "#boolean\n",
        "a = 2\n",
        "b = 5\n",
        "c = 9\n",
        "print(a>b)\n"
      ],
      "metadata": {
        "colab": {
          "base_uri": "https://localhost:8080/"
        },
        "id": "wYzhgJp36nTY",
        "outputId": "62451927-924c-4763-c636-e30c16dffa52"
      },
      "execution_count": null,
      "outputs": [
        {
          "output_type": "stream",
          "name": "stdout",
          "text": [
            "False\n"
          ]
        }
      ]
    },
    {
      "cell_type": "markdown",
      "source": [
        "# Operators\n",
        "\n",
        "   * There are seven types of operators\n",
        "\n",
        "    1. Arthematic operators\n",
        "    2. Assignment operators\n",
        "    3. Comparison operators\n",
        "    4. Logical operators\n",
        "    5. Identity operators\n",
        "    6. Membership operators\n",
        "    7. Bitwise operators\n",
        "\n",
        "\n",
        "    \n",
        "  "
      ],
      "metadata": {
        "id": "MyGzeKkl4ICL"
      }
    },
    {
      "cell_type": "markdown",
      "source": [
        "* Arthimatic operator\n",
        "\n",
        "An Arithmetic Operator is a mathematical function that performs a calculation on two operands."
      ],
      "metadata": {
        "id": "lLHEkO_x8EXG"
      }
    },
    {
      "cell_type": "code",
      "source": [
        "#arthimatic\n",
        "a = 5\n",
        "b = 7\n",
        "print(a+b)\n",
        "print(a-b)\n",
        "print(a*b)\n",
        "print(a/b)\n",
        "print(a%b)\n",
        "print(a**b)\n",
        "print(a//b)\n"
      ],
      "metadata": {
        "colab": {
          "base_uri": "https://localhost:8080/"
        },
        "id": "Q7mLQqJq8RkZ",
        "outputId": "5e82bd32-eb29-407a-d524-cc3bdb690ff3"
      },
      "execution_count": null,
      "outputs": [
        {
          "output_type": "stream",
          "name": "stdout",
          "text": [
            "12\n",
            "-2\n",
            "35\n",
            "0.7142857142857143\n",
            "5\n",
            "78125\n",
            "0\n"
          ]
        }
      ]
    },
    {
      "cell_type": "markdown",
      "source": [
        "* Assignment operator\n",
        "\n",
        " Assignment operators in Python are used to assign values to variables."
      ],
      "metadata": {
        "id": "BvncsYxu8zJt"
      }
    },
    {
      "cell_type": "code",
      "source": [
        "#assignment\n",
        "a = 9\n",
        "b = 2\n",
        "a = b\n",
        "print(a)\n",
        "a +=b\n",
        "print(a)\n",
        "a -=b\n",
        "print(a)\n",
        "a *=b\n",
        "print(a)\n",
        "a /=b\n",
        "print(a)\n",
        "a %=b\n",
        "print(a)\n",
        "a **=b\n",
        "print(a)\n",
        "a //=b\n"
      ],
      "metadata": {
        "colab": {
          "base_uri": "https://localhost:8080/"
        },
        "id": "4Zboa1d19CbQ",
        "outputId": "f12f790b-6d30-462a-d578-2adfe2c6764d"
      },
      "execution_count": null,
      "outputs": [
        {
          "output_type": "stream",
          "name": "stdout",
          "text": [
            "2\n",
            "4\n",
            "2\n",
            "4\n",
            "2.0\n",
            "0.0\n",
            "0.0\n"
          ]
        }
      ]
    },
    {
      "cell_type": "markdown",
      "source": [
        "* Comparison operator\n",
        "     \n",
        "     Comparison operators, also known as relational operators, in Python are symbols or keywords that compare two values and evaluate their relationship:"
      ],
      "metadata": {
        "id": "MFqBiRd009yb"
      }
    },
    {
      "cell_type": "code",
      "source": [
        "#comparison\n",
        "a = 22\n",
        "b = 45\n",
        "print(a==b)\n",
        "print(a!=b)\n",
        "print(a>b)\n",
        "print(a<b)\n",
        "print(a>=b)\n",
        "print(a<=b)\n",
        "\n"
      ],
      "metadata": {
        "colab": {
          "base_uri": "https://localhost:8080/"
        },
        "id": "U3bnQWd9-uE8",
        "outputId": "a4e3d20f-e7a7-4ee1-a59d-ba2a17ad169c"
      },
      "execution_count": null,
      "outputs": [
        {
          "output_type": "stream",
          "name": "stdout",
          "text": [
            "False\n",
            "True\n",
            "False\n",
            "True\n",
            "False\n",
            "True\n"
          ]
        }
      ]
    },
    {
      "cell_type": "markdown",
      "source": [
        "* Logical operator ( and, or, not)\n",
        "     \n",
        "     And: Returns true if both statements are true ( Two satisfied)\n",
        "    \n",
        "     Or: Returns true if one statement is true ( one satisfied)\n",
        "    \n",
        "     Not: Reverse the result, returns false if the result is true ( T - F) ( F - T)\n",
        "    \n"
      ],
      "metadata": {
        "id": "nTnmsWRA_tQ_"
      }
    },
    {
      "cell_type": "code",
      "source": [
        "#And\n",
        "a = 7<9 and 10>5\n",
        "print(a)"
      ],
      "metadata": {
        "colab": {
          "base_uri": "https://localhost:8080/"
        },
        "id": "N-vK0CT-EktB",
        "outputId": "75c809f9-fa48-4e29-f4b9-6e672c7b1a52"
      },
      "execution_count": null,
      "outputs": [
        {
          "output_type": "stream",
          "name": "stdout",
          "text": [
            "True\n"
          ]
        }
      ]
    },
    {
      "cell_type": "code",
      "source": [
        "#Or\n",
        "a = 5>3 or 4<1\n",
        "print(a)"
      ],
      "metadata": {
        "colab": {
          "base_uri": "https://localhost:8080/"
        },
        "id": "k7y_seMlEyyg",
        "outputId": "19c233ce-257f-4a57-9e6a-88becee38068"
      },
      "execution_count": null,
      "outputs": [
        {
          "output_type": "stream",
          "name": "stdout",
          "text": [
            "True\n"
          ]
        }
      ]
    },
    {
      "cell_type": "code",
      "source": [
        "#Not\n",
        "a = 20>15 and (not 10<11)\n",
        "print(a)\n"
      ],
      "metadata": {
        "colab": {
          "base_uri": "https://localhost:8080/"
        },
        "id": "zz-u45N7FPUc",
        "outputId": "57967d40-0d27-4f05-e0f5-8cc157e837fc"
      },
      "execution_count": null,
      "outputs": [
        {
          "output_type": "stream",
          "name": "stdout",
          "text": [
            "False\n"
          ]
        }
      ]
    },
    {
      "cell_type": "markdown",
      "source": [
        "  * Identity operator (is, is not)\n",
        "\n",
        "      Identity operators in Python compare the memory locations of two objects to determine if they are the same object.\n",
        "\n",
        "      * is: Returns True if the two objects are the same object\n",
        "      * is not: Returns True if the two objects are not the same object\n",
        "\n",
        "\n",
        "          \n",
        "\n",
        "\n"
      ],
      "metadata": {
        "id": "DAq4QI9l7gcx"
      }
    },
    {
      "cell_type": "code",
      "source": [
        "#is\n",
        "a = \"hello\"\n",
        "b = \"world\"\n",
        "print(a is b)"
      ],
      "metadata": {
        "colab": {
          "base_uri": "https://localhost:8080/"
        },
        "id": "HSsdphWJ-nMW",
        "outputId": "504157f9-409e-4b28-9037-e869d286f28e"
      },
      "execution_count": null,
      "outputs": [
        {
          "output_type": "stream",
          "name": "stdout",
          "text": [
            "False\n"
          ]
        }
      ]
    },
    {
      "cell_type": "code",
      "source": [
        "#is not\n",
        "a = \"hello\"\n",
        "b = \"world\"\n",
        "print(a is not b)"
      ],
      "metadata": {
        "colab": {
          "base_uri": "https://localhost:8080/"
        },
        "id": "P9xtchoG_TnI",
        "outputId": "cca6c554-fa94-415f-946d-ed91cefa8e4d"
      },
      "execution_count": null,
      "outputs": [
        {
          "output_type": "stream",
          "name": "stdout",
          "text": [
            "True\n"
          ]
        }
      ]
    },
    {
      "cell_type": "markdown",
      "source": [
        "  * Membership operator (in , not in)\n",
        "     \n",
        "     Membership operators in Python are used to determine if an item is a member of a collection or set.\n",
        "\n",
        "       * In: Checks if an item is in a collection.\n",
        "       * Not in: Checks if an item is not in a collection.\n",
        "\n",
        "    "
      ],
      "metadata": {
        "id": "2cEMfQ-6_ioH"
      }
    },
    {
      "cell_type": "code",
      "source": [
        "#in\n",
        "a = \"hello\"\n",
        "b = \"my world\"\n",
        "print(a in b)"
      ],
      "metadata": {
        "colab": {
          "base_uri": "https://localhost:8080/"
        },
        "id": "8k-fcFOAASSB",
        "outputId": "9a9baa7c-09f6-4f57-c92b-89e42eee5a83"
      },
      "execution_count": null,
      "outputs": [
        {
          "output_type": "stream",
          "name": "stdout",
          "text": [
            "False\n"
          ]
        }
      ]
    },
    {
      "cell_type": "code",
      "source": [
        "#not in\n",
        "a = \"hello\"\n",
        "b = \"my world\"\n",
        "print(a not in b)"
      ],
      "metadata": {
        "colab": {
          "base_uri": "https://localhost:8080/"
        },
        "id": "eih3VVEvAn7r",
        "outputId": "c89ad887-5b56-43be-b6c1-31945e1a14ab"
      },
      "execution_count": null,
      "outputs": [
        {
          "output_type": "stream",
          "name": "stdout",
          "text": [
            "True\n"
          ]
        }
      ]
    }
  ]
}