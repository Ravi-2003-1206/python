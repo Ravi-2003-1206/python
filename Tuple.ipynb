{
  "nbformat": 4,
  "nbformat_minor": 0,
  "metadata": {
    "colab": {
      "provenance": [],
      "gpuType": "T4",
      "authorship_tag": "ABX9TyO2hYCneUaj87Jt3gPhkYsC",
      "include_colab_link": true
    },
    "kernelspec": {
      "name": "python3",
      "display_name": "Python 3"
    },
    "language_info": {
      "name": "python"
    },
    "accelerator": "GPU"
  },
  "cells": [
    {
      "cell_type": "markdown",
      "metadata": {
        "id": "view-in-github",
        "colab_type": "text"
      },
      "source": [
        "<a href=\"https://colab.research.google.com/github/Ravi-2003-1206/python/blob/main/Tuple.ipynb\" target=\"_parent\"><img src=\"https://colab.research.google.com/assets/colab-badge.svg\" alt=\"Open In Colab\"/></a>"
      ]
    },
    {
      "cell_type": "code",
      "execution_count": null,
      "metadata": {
        "id": "jt0dIZQJ5ocN"
      },
      "outputs": [],
      "source": []
    },
    {
      "cell_type": "markdown",
      "source": [
        "# Tuple :-\n",
        "\n",
        "   Python Tuple is a collection of objects separated by commas. In some ways, a tuple is similar to a Python list in terms of indexing, nested objects, and repetition but the main difference between both is Python tuple is immutable, unlike the Python list which is mutable."
      ],
      "metadata": {
        "id": "bYLEY_D_5pyV"
      }
    },
    {
      "cell_type": "markdown",
      "source": [
        "Features of Tuple :-\n",
        "      \n",
        "  1. It is immutable.\n",
        "  2. it is ordered sequence.\n"
      ],
      "metadata": {
        "id": "FWnpowss6zrB"
      }
    },
    {
      "cell_type": "markdown",
      "source": [
        "# Creating the Tuple"
      ],
      "metadata": {
        "id": "V5hqeYvG7MWU"
      }
    },
    {
      "cell_type": "code",
      "source": [
        "#empty tuple :- it is a empty varible\n",
        "#type():- it will tell about the function of varible\n",
        " # types of tuple\n",
        "\n",
        "empty_tuple = ()"
      ],
      "metadata": {
        "id": "Z3HJxLxP-mAb"
      },
      "execution_count": null,
      "outputs": []
    },
    {
      "cell_type": "code",
      "source": [
        "#tuple with element\n",
        "ravi = (1,2,3,4,5)\n",
        "print(type(ravi))\n",
        "#single tuple\n",
        "r = (1,)\n",
        "print(type(r))\n",
        "a = (1,4,5)\n",
        "print(type(a))\n",
        "#mixed tuple\n",
        "b = (1,\"ravi\",5)\n",
        "print(type(a))\n",
        "a = (\"ravi\",)\n",
        "print(type(a))\n",
        "c = (\"nani\",)\n",
        "print(type(c))\n",
        "f = (\"chinnu\",\"mani\")\n",
        "print(type(f))\n",
        "#single tuple\n",
        "g = (67,)\n",
        "print(type(g))\n",
        "h = (1,)\n",
        "print(type(h))\n",
        "j = (9,8,6)\n",
        "print(type(j))\n"
      ],
      "metadata": {
        "colab": {
          "base_uri": "https://localhost:8080/"
        },
        "id": "prQi9f9h-wE3",
        "outputId": "e9e73683-51d1-47a0-810f-ac4129536cd8"
      },
      "execution_count": null,
      "outputs": [
        {
          "output_type": "stream",
          "name": "stdout",
          "text": [
            "<class 'tuple'>\n",
            "<class 'tuple'>\n",
            "<class 'tuple'>\n",
            "<class 'tuple'>\n",
            "<class 'tuple'>\n",
            "<class 'tuple'>\n",
            "<class 'tuple'>\n",
            "<class 'tuple'>\n",
            "<class 'tuple'>\n",
            "<class 'tuple'>\n"
          ]
        }
      ]
    },
    {
      "cell_type": "code",
      "source": [
        "#mixed data type\n",
        "b = (1,\"ravi\",5)\n",
        "print(b)\n",
        "a = (1,\"M\",)\n",
        "print(a)\n",
        "c = (1,5)\n",
        "print(c)\n",
        "d = (\"dinesh\",3.29,)\n",
        "print(d)\n",
        "f = (\"nani\",)\n",
        "print(f)\n"
      ],
      "metadata": {
        "colab": {
          "base_uri": "https://localhost:8080/"
        },
        "id": "-jd8e5sl_Wds",
        "outputId": "80151e28-ffe1-4e8e-ac4b-90ef90afc7f6"
      },
      "execution_count": null,
      "outputs": [
        {
          "output_type": "stream",
          "name": "stdout",
          "text": [
            "(1, 'ravi', 5)\n",
            "(1, 'M')\n",
            "(1, 5)\n",
            "('dinesh', 3.29)\n",
            "('nani',)\n"
          ]
        }
      ]
    },
    {
      "cell_type": "markdown",
      "source": [
        "# Accessing of Tuple\n",
        "\n",
        "* You can access tuple items by referring to the index number, inside square brackets:"
      ],
      "metadata": {
        "id": "_aT1cc2j_oPq"
      }
    },
    {
      "cell_type": "code",
      "source": [
        " a = (\"apple\", \"banana\", \"cherry\")\n",
        "print(a[1])\n",
        "b = (\"car\",\"bike\",\"bus\")\n",
        "print(b[2])\n",
        "c = (1,2,3,2,5)\n",
        "print(c[3])\n",
        "d = (2,3,2,4,5,6)\n",
        "print(d[2])\n",
        "e = (\"max\",\"food\",\"dance\",\"dj\")\n",
        "print(e[3])\n",
        "f = (2,0,7,2,4,7,5,6)\n",
        "print(f[2])\n",
        "g = (\"a\",\"d\",\"B\",\"x\")\n",
        "print(g[2])\n",
        "h = (\"print\",\"tuple\",\"list\",\"data\")\n",
        "print(h[1])\n",
        "j = (246,763,987,123)\n",
        "print(j[3])\n",
        "k = (23,45,89,46,30)\n",
        "print(k[4])"
      ],
      "metadata": {
        "colab": {
          "base_uri": "https://localhost:8080/"
        },
        "id": "Eb12fXOS_qQJ",
        "outputId": "c4c35a93-3a1a-4742-cc64-2256db178c6d"
      },
      "execution_count": null,
      "outputs": [
        {
          "output_type": "stream",
          "name": "stdout",
          "text": [
            "banana\n",
            "bus\n",
            "2\n",
            "2\n",
            "dj\n",
            "7\n",
            "B\n",
            "tuple\n",
            "123\n",
            "30\n"
          ]
        }
      ]
    },
    {
      "cell_type": "markdown",
      "source": [
        "# Immutable"
      ],
      "metadata": {
        "id": "7KA4dqIyAIyT"
      }
    },
    {
      "cell_type": "code",
      "source": [
        "# immutable:-\n",
        "#Onces the tuple is created we cannot change its the element.\n",
        "\n",
        "a=(\"high\",\"low\",\"left\",\"right\")\n",
        "a[2] = \"top\"\n",
        "print(a)\n"
      ],
      "metadata": {
        "colab": {
          "base_uri": "https://localhost:8080/",
          "height": 193
        },
        "id": "xE6_uT9nAKHT",
        "outputId": "3dfdf24c-e06d-464c-ce2b-9a01b33d3496"
      },
      "execution_count": null,
      "outputs": [
        {
          "output_type": "error",
          "ename": "TypeError",
          "evalue": "'tuple' object does not support item assignment",
          "traceback": [
            "\u001b[0;31m---------------------------------------------------------------------------\u001b[0m",
            "\u001b[0;31mTypeError\u001b[0m                                 Traceback (most recent call last)",
            "\u001b[0;32m<ipython-input-4-0a5565e0e1db>\u001b[0m in \u001b[0;36m<cell line: 5>\u001b[0;34m()\u001b[0m\n\u001b[1;32m      3\u001b[0m \u001b[0;34m\u001b[0m\u001b[0m\n\u001b[1;32m      4\u001b[0m \u001b[0ma\u001b[0m\u001b[0;34m=\u001b[0m\u001b[0;34m(\u001b[0m\u001b[0;34m\"high\"\u001b[0m\u001b[0;34m,\u001b[0m\u001b[0;34m\"low\"\u001b[0m\u001b[0;34m,\u001b[0m\u001b[0;34m\"left\"\u001b[0m\u001b[0;34m,\u001b[0m\u001b[0;34m\"right\"\u001b[0m\u001b[0;34m)\u001b[0m\u001b[0;34m\u001b[0m\u001b[0;34m\u001b[0m\u001b[0m\n\u001b[0;32m----> 5\u001b[0;31m \u001b[0ma\u001b[0m\u001b[0;34m[\u001b[0m\u001b[0;36m2\u001b[0m\u001b[0;34m]\u001b[0m \u001b[0;34m=\u001b[0m \u001b[0;34m\"top\"\u001b[0m\u001b[0;34m\u001b[0m\u001b[0;34m\u001b[0m\u001b[0m\n\u001b[0m\u001b[1;32m      6\u001b[0m \u001b[0mprint\u001b[0m\u001b[0;34m(\u001b[0m\u001b[0ma\u001b[0m\u001b[0;34m)\u001b[0m\u001b[0;34m\u001b[0m\u001b[0;34m\u001b[0m\u001b[0m\n",
            "\u001b[0;31mTypeError\u001b[0m: 'tuple' object does not support item assignment"
          ]
        }
      ]
    },
    {
      "cell_type": "markdown",
      "source": [
        "# Tuple Operations\n",
        "     "
      ],
      "metadata": {
        "id": "dTnDh28tAbK6"
      }
    },
    {
      "cell_type": "markdown",
      "source": [
        "1. Concatenation\n",
        "      \n",
        "      Concatenating means obtaining a new string that contains both of the original strings.  "
      ],
      "metadata": {
        "id": "4sBoaF44DHRM"
      }
    },
    {
      "cell_type": "code",
      "source": [
        "A = (1,2,3,4,5)\n",
        "B = ('a','b','c','d','e')\n",
        "C = A + B\n",
        "print(C)"
      ],
      "metadata": {
        "colab": {
          "base_uri": "https://localhost:8080/"
        },
        "id": "Jtpm6HYIDn88",
        "outputId": "11db7356-6356-4598-aaa0-1bd8b2e61d47"
      },
      "execution_count": null,
      "outputs": [
        {
          "output_type": "stream",
          "name": "stdout",
          "text": [
            "(1, 2, 3, 4, 5, 'a', 'b', 'c', 'd', 'e')\n"
          ]
        }
      ]
    },
    {
      "cell_type": "code",
      "source": [
        "ravi = (143,243,564)\n",
        "dinesh = (\"ravi\",\"dinesh\",\"dharmesh\")\n",
        "c = ravi + dinesh\n",
        "print(c)"
      ],
      "metadata": {
        "colab": {
          "base_uri": "https://localhost:8080/"
        },
        "id": "bz3FpuY-Evob",
        "outputId": "ea26c972-fb1f-4ca6-9a87-ef13c0907077"
      },
      "execution_count": null,
      "outputs": [
        {
          "output_type": "stream",
          "name": "stdout",
          "text": [
            "(143, 243, 564, 'ravi', 'dinesh', 'dharmesh')\n"
          ]
        }
      ]
    },
    {
      "cell_type": "code",
      "source": [
        "x = ('r','a','v','i')\n",
        "y = ('p','r','i','y','a')\n",
        "z = x + y\n",
        "print(z)\n"
      ],
      "metadata": {
        "colab": {
          "base_uri": "https://localhost:8080/"
        },
        "id": "UxM3-9J-FPIl",
        "outputId": "379c87ea-42bf-4304-c0d8-788c764a803f"
      },
      "execution_count": null,
      "outputs": [
        {
          "output_type": "stream",
          "name": "stdout",
          "text": [
            "('r', 'a', 'v', 'i', 'p', 'r', 'i', 'y', 'a')\n"
          ]
        }
      ]
    },
    {
      "cell_type": "code",
      "source": [
        "riya = (\"bava\",\"kanna\",\"nanna\")\n",
        "revi = (\"mardhal\",\"kannamma\",\"maa\")\n",
        "riyarevi = (riya + revi)\n",
        "print(riyarevi)"
      ],
      "metadata": {
        "colab": {
          "base_uri": "https://localhost:8080/"
        },
        "id": "oVuC107YGJ7x",
        "outputId": "c50c6939-06e0-4daa-b850-c4b26742fb2b"
      },
      "execution_count": null,
      "outputs": [
        {
          "output_type": "stream",
          "name": "stdout",
          "text": [
            "('bava', 'kanna', 'nanna', 'mardhal', 'kannamma', 'maa')\n"
          ]
        }
      ]
    },
    {
      "cell_type": "code",
      "source": [
        "ktm = (\"duke\",\"pulser\",\"r15\")\n",
        "cc = (200,125,200)\n",
        "riders = (ktm + cc)\n",
        "print(riders)"
      ],
      "metadata": {
        "colab": {
          "base_uri": "https://localhost:8080/"
        },
        "id": "x1IYVe9eG77Y",
        "outputId": "7553bc50-a896-4add-a360-68b8de1a38f1"
      },
      "execution_count": null,
      "outputs": [
        {
          "output_type": "stream",
          "name": "stdout",
          "text": [
            "('duke', 'pulser', 'r15', 200, 125, 200)\n"
          ]
        }
      ]
    },
    {
      "cell_type": "markdown",
      "source": [
        "2.Repetition\n",
        "     \n",
        "   Repetition statements are called loops, and are used to repeat the same code multiple times in succession. Python has two types of loops: Condition-Controlled and Count-Controlled. Condition-Controlled loop uses a true/false condition to control the number of times that it repeats - while."
      ],
      "metadata": {
        "id": "UrW2d4i6HlGF"
      }
    },
    {
      "cell_type": "code",
      "source": [
        "a = (1,2,3,4,5)\n",
        "b = a * 15\n",
        "print(b)"
      ],
      "metadata": {
        "colab": {
          "base_uri": "https://localhost:8080/"
        },
        "id": "dHIARo0tH6NU",
        "outputId": "d15d643a-b80e-41f0-c48d-15dd95813f81"
      },
      "execution_count": null,
      "outputs": [
        {
          "output_type": "stream",
          "name": "stdout",
          "text": [
            "(1, 2, 3, 4, 5, 1, 2, 3, 4, 5, 1, 2, 3, 4, 5, 1, 2, 3, 4, 5, 1, 2, 3, 4, 5, 1, 2, 3, 4, 5, 1, 2, 3, 4, 5, 1, 2, 3, 4, 5, 1, 2, 3, 4, 5, 1, 2, 3, 4, 5, 1, 2, 3, 4, 5, 1, 2, 3, 4, 5, 1, 2, 3, 4, 5, 1, 2, 3, 4, 5, 1, 2, 3, 4, 5)\n"
          ]
        }
      ]
    },
    {
      "cell_type": "code",
      "source": [
        "ravi = (\"revi\",\"rowdy\",)\n",
        "rowdy = ravi * 5\n",
        "print(rowdy)"
      ],
      "metadata": {
        "colab": {
          "base_uri": "https://localhost:8080/"
        },
        "id": "a2TQNep6Icer",
        "outputId": "b4450fd8-a96b-45a8-e620-c178ce2c8f75"
      },
      "execution_count": null,
      "outputs": [
        {
          "output_type": "stream",
          "name": "stdout",
          "text": [
            "('revi', 'rowdy', 'revi', 'rowdy', 'revi', 'rowdy', 'revi', 'rowdy', 'revi', 'rowdy')\n"
          ]
        }
      ]
    },
    {
      "cell_type": "code",
      "source": [
        "x = ('p','r','i','y','a')\n",
        "y = x * 2\n",
        "print(y)\n"
      ],
      "metadata": {
        "colab": {
          "base_uri": "https://localhost:8080/"
        },
        "id": "3fV6S9zmIxBA",
        "outputId": "539c907f-ddc4-48a3-8ca7-d90f6209bd62"
      },
      "execution_count": null,
      "outputs": [
        {
          "output_type": "stream",
          "name": "stdout",
          "text": [
            "('p', 'r', 'i', 'y', 'a', 'p', 'r', 'i', 'y', 'a')\n"
          ]
        }
      ]
    },
    {
      "cell_type": "code",
      "source": [
        "xyz = ('a','b','c')\n",
        "zyx = xyz * 3\n",
        "print(zyx)"
      ],
      "metadata": {
        "colab": {
          "base_uri": "https://localhost:8080/"
        },
        "id": "l8XvGCwMJL54",
        "outputId": "92b5bd76-d24a-403f-d767-57ed16683913"
      },
      "execution_count": null,
      "outputs": [
        {
          "output_type": "stream",
          "name": "stdout",
          "text": [
            "('a', 'b', 'c', 'a', 'b', 'c', 'a', 'b', 'c')\n"
          ]
        }
      ]
    },
    {
      "cell_type": "code",
      "source": [
        "a = (1,2,3,4,5,6,7,8,9)\n",
        "b = a * 5\n",
        "print(b)"
      ],
      "metadata": {
        "colab": {
          "base_uri": "https://localhost:8080/"
        },
        "id": "TeO_7gBMJfq5",
        "outputId": "9fc7e036-6663-4671-dc48-0d52b1dc55b7"
      },
      "execution_count": null,
      "outputs": [
        {
          "output_type": "stream",
          "name": "stdout",
          "text": [
            "(1, 2, 3, 4, 5, 6, 7, 8, 9, 1, 2, 3, 4, 5, 6, 7, 8, 9, 1, 2, 3, 4, 5, 6, 7, 8, 9, 1, 2, 3, 4, 5, 6, 7, 8, 9, 1, 2, 3, 4, 5, 6, 7, 8, 9)\n"
          ]
        }
      ]
    },
    {
      "cell_type": "markdown",
      "source": [
        "# Tuple Methods"
      ],
      "metadata": {
        "id": "4k7rhzosJ-Vb"
      }
    },
    {
      "cell_type": "markdown",
      "source": [
        "Python tuple methods are built-in methods used to modify the tuples in programs. Python tuple methods are immutable, meaning their content cannot be modified once they are created. The two methods for tuples are the Python slot gacor hari ini Tuple count() and the Python Tuple index()."
      ],
      "metadata": {
        "id": "uPjTweibKYhB"
      }
    },
    {
      "cell_type": "markdown",
      "source": [
        "1.count\n",
        "   \n",
        "   The count() method returns the number of elements with the specified value. Syntax: list.count(value)"
      ],
      "metadata": {
        "id": "H2shdkQ7Kg7k"
      }
    },
    {
      "cell_type": "code",
      "source": [
        "a=(1,2,3,4,3,5,3,4,2,3,1,5)\n",
        "a_2=a.count(3)\n",
        "print(a_2)\n",
        "g=('d','f','d','s','a','d')\n",
        "g=g.count('d')\n",
        "print(g)\n",
        "h=(1,'c',\"dinesh\",1,3,4,\"dinesh\",'s')\n",
        "h=h.count(\"dinesh\")\n",
        "print(h)\n",
        "s = (5,6,4,5,2,5,1,2,7,5,8,9,2,3,4,)\n",
        "s = s.count(5)\n",
        "print(s)\n",
        "t=(\"josh\",\"ravi\",\"josh\",\"dinesh\",\"nani\",\"josh\")\n",
        "t=t.count(\"josh\")\n",
        "print(t)\n",
        "m=(\"name\",\"age\",\"pleac\",\"age\",\"preson\",\"age\",\"name\",\"pleac\",\"age\")\n",
        "m=m.count(\"age\")\n",
        "print(m)\n",
        "n=(289,378,987,289,908,172,289,371,890)\n",
        "n=n.count(289)\n",
        "print(n)\n",
        "z=()\n"
      ],
      "metadata": {
        "colab": {
          "base_uri": "https://localhost:8080/"
        },
        "id": "8vPsNiZELuwk",
        "outputId": "cbaffb30-b7bf-4c3d-c593-33a5f4771153"
      },
      "execution_count": null,
      "outputs": [
        {
          "output_type": "stream",
          "name": "stdout",
          "text": [
            "4\n",
            "3\n",
            "2\n",
            "4\n",
            "3\n",
            "4\n",
            "3\n"
          ]
        }
      ]
    },
    {
      "cell_type": "markdown",
      "source": [
        "# Index"
      ],
      "metadata": {
        "id": "O381NrdkPTAJ"
      }
    },
    {
      "cell_type": "markdown",
      "source": [
        "Searches the tuple for a specified value and returns the position of where it was found."
      ],
      "metadata": {
        "id": "mZqiJHC-PWTX"
      }
    },
    {
      "cell_type": "code",
      "source": [
        "a=(1,2,3,4,3,5,3,4,2,3,1,5)\n",
        "a_2=a.index(3)\n",
        "print(a_2)\n",
        "g=('d','f','d','s','a','d')\n",
        "g=g.index('d')\n",
        "print(g)\n",
        "h=(1,'c',\"dinesh\",1,3,4,\"dinesh\",'s')\n",
        "h=h.index(\"dinesh\")\n",
        "print(h)\n",
        "s = (5,6,4,5,2,5,1,2,7,5,8,9,2,3,4,)\n",
        "s = s.index(5)\n",
        "print(s)\n",
        "t=(\"josh\",\"ravi\",\"josh\",\"dinesh\",\"nani\",\"josh\")\n",
        "t=t.index(\"josh\")\n",
        "print(t)\n",
        "m=(\"name\",\"age\",\"pleac\",\"age\",\"preson\",\"age\",\"name\",\"pleac\",\"age\")\n",
        "m=m.index(\"age\")\n",
        "print(m)\n",
        "n=(289,378,987,289,908,172,289,371,890)\n",
        "n=n.index(289)\n",
        "print(n)\n",
        "z=()"
      ],
      "metadata": {
        "colab": {
          "base_uri": "https://localhost:8080/"
        },
        "id": "rkSPkOI4PnvK",
        "outputId": "494673a7-707a-45d5-8078-4927360e7e4a"
      },
      "execution_count": null,
      "outputs": [
        {
          "output_type": "stream",
          "name": "stdout",
          "text": [
            "2\n",
            "0\n",
            "2\n",
            "0\n",
            "0\n",
            "1\n",
            "0\n"
          ]
        }
      ]
    },
    {
      "cell_type": "markdown",
      "source": [],
      "metadata": {
        "id": "NLhtDIZEPRHW"
      }
    }
  ]
}