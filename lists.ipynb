{
  "nbformat": 4,
  "nbformat_minor": 0,
  "metadata": {
    "colab": {
      "provenance": [],
      "authorship_tag": "ABX9TyMSVuimdi+L+d413T+y8Vxv",
      "include_colab_link": true
    },
    "kernelspec": {
      "name": "python3",
      "display_name": "Python 3"
    },
    "language_info": {
      "name": "python"
    }
  },
  "cells": [
    {
      "cell_type": "markdown",
      "metadata": {
        "id": "view-in-github",
        "colab_type": "text"
      },
      "source": [
        "<a href=\"https://colab.research.google.com/github/Ravi-2003-1206/python/blob/main/lists.ipynb\" target=\"_parent\"><img src=\"https://colab.research.google.com/assets/colab-badge.svg\" alt=\"Open In Colab\"/></a>"
      ]
    },
    {
      "cell_type": "markdown",
      "source": [
        "# List\n",
        "\n",
        "  A list is a data structure in Python that is a mutable, or changeable, ordered sequence of elements. Each element or value that is inside of a list is called an item. Just as strings are defined as characters between quotes, lists are defined by having values between square brackets [ ] .\n",
        "         \n",
        "    * mylist =[1,2,3,4,5,6,7,8,9,]\n",
        "\n"
      ],
      "metadata": {
        "id": "7W8CKWYQBc7r"
      }
    },
    {
      "cell_type": "code",
      "source": [
        "#list\n",
        "thislist = [\"mango\", \"orange\", \"apple\", \"banana\"]\n",
        "print(thislist)\n"
      ],
      "metadata": {
        "colab": {
          "base_uri": "https://localhost:8080/"
        },
        "id": "0ApDf5EjB-AI",
        "outputId": "16cf8712-238b-4b67-e8b2-273d915e75bd"
      },
      "execution_count": null,
      "outputs": [
        {
          "output_type": "stream",
          "name": "stdout",
          "text": [
            "['mango', 'orange', 'apple', 'banana']\n"
          ]
        }
      ]
    },
    {
      "cell_type": "markdown",
      "source": [
        "  * Index\n",
        "\n",
        "     1. Positive :( 0 to so on) left to right\n",
        "     2. Negative :( -1 to -so on) right to left"
      ],
      "metadata": {
        "id": "o9m29XA8CdkF"
      }
    },
    {
      "cell_type": "code",
      "source": [
        "#positive\n",
        "a = [1,2,3,4,5,6,7,8,9,]\n",
        "a[8]"
      ],
      "metadata": {
        "colab": {
          "base_uri": "https://localhost:8080/"
        },
        "id": "cQKEn6FuDoJs",
        "outputId": "1139e0df-0ea0-4542-bf89-51f31d65f1cd"
      },
      "execution_count": null,
      "outputs": [
        {
          "output_type": "execute_result",
          "data": {
            "text/plain": [
              "9"
            ]
          },
          "metadata": {},
          "execution_count": 10
        }
      ]
    },
    {
      "cell_type": "code",
      "source": [
        "#negative\n",
        "a = [-1,-2,-3,-4,-5,-6,-7,-8,-9]\n",
        "a[-4]"
      ],
      "metadata": {
        "colab": {
          "base_uri": "https://localhost:8080/"
        },
        "id": "9XhoYcERECjQ",
        "outputId": "87a09669-c119-446e-a91a-3006fbbbd0c1"
      },
      "execution_count": null,
      "outputs": [
        {
          "output_type": "execute_result",
          "data": {
            "text/plain": [
              "-6"
            ]
          },
          "metadata": {},
          "execution_count": 11
        }
      ]
    },
    {
      "cell_type": "markdown",
      "source": [
        "* Concatenation\n",
        "     \n",
        "     Constructor in Python and types of constructor |PrepInstaA constructor in Python is a special method that's automatically called when an object of a class is created. Its purpose is to assign values to the data members of the class when an object is initialized.\n"
      ],
      "metadata": {
        "id": "aaK-z9dlEZHI"
      }
    },
    {
      "cell_type": "code",
      "source": [
        "#concatenation\n",
        "a = [1,2,3,3,4]\n",
        "b = [5,6,7,8,9]\n",
        "c = a+b\n",
        "print(c)"
      ],
      "metadata": {
        "colab": {
          "base_uri": "https://localhost:8080/"
        },
        "id": "0hcGcrDqE484",
        "outputId": "40be712f-788f-4134-914e-5dfc255de9a4"
      },
      "execution_count": null,
      "outputs": [
        {
          "output_type": "stream",
          "name": "stdout",
          "text": [
            "[1, 2, 3, 3, 4, 5, 6, 7, 8, 9]\n"
          ]
        }
      ]
    },
    {
      "cell_type": "markdown",
      "source": [
        "* Repetition\n",
        "     \n",
        "     Repetition statements are called loops, and are used to repeat the same code multiple times in succession. Python has two types of loops: Condition-Controlled and Count-Controlled. Condition-Controlled loop uses a true/false condition to control the number of times that it repeats - while.\n"
      ],
      "metadata": {
        "id": "SH1IV4JhFTBM"
      }
    },
    {
      "cell_type": "code",
      "source": [
        "#Repetition\n",
        "a = [3,6,9,12]\n",
        "b = [a*7]\n",
        "print (b)"
      ],
      "metadata": {
        "colab": {
          "base_uri": "https://localhost:8080/"
        },
        "id": "l9hSa3z2FXyZ",
        "outputId": "cccdb9a8-4780-456f-c742-3d667c942b91"
      },
      "execution_count": null,
      "outputs": [
        {
          "output_type": "stream",
          "name": "stdout",
          "text": [
            "[[3, 6, 9, 12, 3, 6, 9, 12, 3, 6, 9, 12, 3, 6, 9, 12, 3, 6, 9, 12, 3, 6, 9, 12, 3, 6, 9, 12]]\n"
          ]
        }
      ]
    },
    {
      "cell_type": "markdown",
      "source": [
        "* change list items\n",
        "    \n",
        "    To change the value of a specific item refer to the index number.\n",
        "    "
      ],
      "metadata": {
        "id": "H2IS4KG7FvJA"
      }
    },
    {
      "cell_type": "code",
      "source": [
        "#change list items\n",
        "a = [\"Duke 125\", \"Duke 250\",\"Duke 390\"]\n",
        "a[2]= \"Duke 200\"\n",
        "print(a)"
      ],
      "metadata": {
        "colab": {
          "base_uri": "https://localhost:8080/"
        },
        "id": "vk0HfA7yHJ_y",
        "outputId": "5c21b63f-ac9c-4f07-9199-68979dd93eec"
      },
      "execution_count": null,
      "outputs": [
        {
          "output_type": "stream",
          "name": "stdout",
          "text": [
            "['Duke 125', 'Duke 250', 'Duke 200']\n"
          ]
        }
      ]
    },
    {
      "cell_type": "code",
      "source": [
        "#change a range of items value\n",
        "a = [\"Dinesh\", \"Ravi\", \"Dharmesh\"]\n",
        "a[2:2]=[\"Rowdy\"]\n",
        "print(a)"
      ],
      "metadata": {
        "colab": {
          "base_uri": "https://localhost:8080/"
        },
        "id": "QQWUpQEHJQeu",
        "outputId": "84c4b990-94ea-4b31-cff7-66cce8429b4b"
      },
      "execution_count": null,
      "outputs": [
        {
          "output_type": "stream",
          "name": "stdout",
          "text": [
            "['Dinesh', 'Ravi', 'Rowdy', 'Dharmesh']\n"
          ]
        }
      ]
    },
    {
      "cell_type": "markdown",
      "source": [
        "# list of Methods\n",
        "       \n",
        "  1. Append\n",
        "  2. Copy\n",
        "  3. Clear\n",
        "  4. Count\n",
        "  5. Extend\n",
        "  6. Index\n",
        "  7. Insert\n",
        "  8. Pop\n",
        "  9. Remove\n",
        "  10. Reverse\n",
        "  11. Sort\n",
        "  12. Min (Minimum)\n",
        "  13. Max (Maximum)"
      ],
      "metadata": {
        "id": "9VsIqXXwKcq_"
      }
    },
    {
      "cell_type": "markdown",
      "source": [
        "* Append\n",
        "   \n",
        "   Append in Python is a pre-defined method used to add a single item to certain collection types. Without the append method, developers would have to alter the entire collection's code for adding a single value or item."
      ],
      "metadata": {
        "id": "3m0tuFR5hAGs"
      }
    },
    {
      "cell_type": "code",
      "source": [
        "#append\n",
        "numbers = [1,2,3]\n",
        "numbers.append(7)\n",
        "print(numbers)\n"
      ],
      "metadata": {
        "colab": {
          "base_uri": "https://localhost:8080/"
        },
        "id": "7-Sn8xZ6hnhk",
        "outputId": "9ef069d6-25f1-4ce8-ab9a-9b559debd449"
      },
      "execution_count": null,
      "outputs": [
        {
          "output_type": "stream",
          "name": "stdout",
          "text": [
            "[1, 2, 3, 7]\n"
          ]
        }
      ]
    },
    {
      "cell_type": "markdown",
      "source": [
        "* Copy\n",
        "  \n",
        "  The copy() in python is used to create a copy of the list as required by the user. As the copied list is shallow, any changes made to the new list will not be reflected in the original list."
      ],
      "metadata": {
        "id": "008tNbcvkOeS"
      }
    },
    {
      "cell_type": "code",
      "source": [
        "#copy\n",
        "numbers = [1,2,3]\n",
        "b = numbers.copy()\n",
        "print(b)"
      ],
      "metadata": {
        "colab": {
          "base_uri": "https://localhost:8080/"
        },
        "id": "X2qL4y50keKg",
        "outputId": "be9eddf3-c5cd-4e8d-ac7a-a16a40dc03f7"
      },
      "execution_count": null,
      "outputs": [
        {
          "output_type": "stream",
          "name": "stdout",
          "text": [
            "[1, 2, 3]\n"
          ]
        }
      ]
    },
    {
      "cell_type": "markdown",
      "source": [
        "* Clear\n",
        "   \n",
        "    The clear method in python is used to erase all the elements present inside the dictionary. It does not take any parameters from the user and has to return value. It returns an empty dictionary with no elements."
      ],
      "metadata": {
        "id": "1igB3jtRnk0F"
      }
    },
    {
      "cell_type": "code",
      "source": [
        "#clear\n",
        "fruits = [\"apple\", \"banana\", \"mango\"]\n",
        "fruits.clear()\n",
        "print(fruits)"
      ],
      "metadata": {
        "colab": {
          "base_uri": "https://localhost:8080/"
        },
        "id": "gA2Bb5Mkny83",
        "outputId": "03145e0c-7283-458a-cf82-59433b200d84"
      },
      "execution_count": null,
      "outputs": [
        {
          "output_type": "stream",
          "name": "stdout",
          "text": [
            "[]\n"
          ]
        }
      ]
    },
    {
      "cell_type": "markdown",
      "source": [
        "* Count\n",
        "    \n",
        "     Count() is a Python built-in function that returns the number of times an object appears in a list. The count() method is one of Python's built-in functions. It returns the number of times a given value occurs in a string or a list, as the name implies."
      ],
      "metadata": {
        "id": "-mmB3YAYoWs9"
      }
    },
    {
      "cell_type": "code",
      "source": [
        "#count\n",
        "fruits = [\"apple\", \"orange\", \"lemon\"]\n",
        "b = fruits.count(\"lemon\")\n",
        "print(b)"
      ],
      "metadata": {
        "colab": {
          "base_uri": "https://localhost:8080/"
        },
        "id": "Ttx8yXneoeh5",
        "outputId": "7fb90571-cd23-4a71-ae83-1be80d5be884"
      },
      "execution_count": null,
      "outputs": [
        {
          "output_type": "stream",
          "name": "stdout",
          "text": [
            "1\n"
          ]
        }
      ]
    },
    {
      "cell_type": "markdown",
      "source": [
        "* Extend\n",
        "    \n",
        "    The Python extend() list function is used to add elements of an iterable (such as string, list, tuple, set, etc.) to the end of another list. Python list extend() method is used for extending a list by adding all the elements of the iterable at the end of the previous list."
      ],
      "metadata": {
        "id": "8oQU88glp8rZ"
      }
    },
    {
      "cell_type": "code",
      "source": [
        "#extend\n",
        "numbers = [1,2,3]\n",
        "more_numbers = [4,5,6,1,4,2,7,3,7]\n",
        "numbers.extend(more_numbers)\n",
        "print(numbers)"
      ],
      "metadata": {
        "colab": {
          "base_uri": "https://localhost:8080/"
        },
        "id": "2h3XlopKqDw3",
        "outputId": "5fff8653-4ed6-4822-e0e1-abaddd17ff1c"
      },
      "execution_count": null,
      "outputs": [
        {
          "output_type": "stream",
          "name": "stdout",
          "text": [
            "[1, 2, 3, 4, 5, 6, 1, 4, 2, 7, 3, 7]\n"
          ]
        }
      ]
    },
    {
      "cell_type": "markdown",
      "source": [
        "* Index\n",
        "    \n",
        "   In Python, indexing refers to the process of accessing a specific element in a sequence, such as a string or list, using its position or index number. Indexing in Python starts at 0, which means that the first element in a sequence has an index of 0, the second element has an index of 1, and so on."
      ],
      "metadata": {
        "id": "7ZtNa8V1q1da"
      }
    },
    {
      "cell_type": "code",
      "source": [
        "#index\n",
        "a = [\"ravi\", \"dinesh\", \"dharmesh\"]\n",
        "b = a.index(\"dinesh\")\n",
        "print(b)"
      ],
      "metadata": {
        "colab": {
          "base_uri": "https://localhost:8080/"
        },
        "id": "fGZAKnhFq8Rg",
        "outputId": "3f631b24-0b9b-4254-f083-07b6859fe5d8"
      },
      "execution_count": null,
      "outputs": [
        {
          "output_type": "stream",
          "name": "stdout",
          "text": [
            "1\n"
          ]
        }
      ]
    },
    {
      "cell_type": "markdown",
      "source": [
        "* Insert\n",
        "    \n",
        "    The insert() in python is used to add items to the list at any specified position by the user. Look at the example given below: Example: In the program given below, the user is adding elements using the insert() in both lists."
      ],
      "metadata": {
        "id": "QG3o3m_ysMOu"
      }
    },
    {
      "cell_type": "code",
      "source": [
        "#insert\n",
        "numbers = [1,2,3,]\n",
        "numbers.insert(1,9)\n",
        "print(numbers)\n"
      ],
      "metadata": {
        "colab": {
          "base_uri": "https://localhost:8080/"
        },
        "id": "TBwI_elLsVrM",
        "outputId": "1902345c-69ad-41dc-8cca-3e6929d3b1cc"
      },
      "execution_count": null,
      "outputs": [
        {
          "output_type": "stream",
          "name": "stdout",
          "text": [
            "[1, 9, 2, 3]\n"
          ]
        }
      ]
    },
    {
      "cell_type": "markdown",
      "source": [
        "* Pop\n",
        "   \n",
        "   List pop in Python is a pre-defined, in-built function that removes an item at the specified index from the list. You can also use pop in Python without mentioning the index value. In such cases, the pop() function will remove the last element of the list."
      ],
      "metadata": {
        "id": "PEa1DU0vvomI"
      }
    },
    {
      "cell_type": "code",
      "source": [
        "#pop\n",
        "a = [\"ravi\", \"dinesh\", \"dharmesh\"]\n",
        "a.pop(1)\n",
        "print(a)"
      ],
      "metadata": {
        "colab": {
          "base_uri": "https://localhost:8080/"
        },
        "id": "RpnQT9-sv-LH",
        "outputId": "76a6e76c-2b85-4cfe-acaf-06ab02cbd277"
      },
      "execution_count": null,
      "outputs": [
        {
          "output_type": "stream",
          "name": "stdout",
          "text": [
            "['ravi', 'dharmesh']\n"
          ]
        }
      ]
    },
    {
      "cell_type": "markdown",
      "source": [
        "* Remove\n",
        "   \n",
        "   The remove() method removes the first occurrence of the element with the specified value."
      ],
      "metadata": {
        "id": "5nQULdBpwb28"
      }
    },
    {
      "cell_type": "code",
      "source": [
        "#remove\n",
        "numbers = [1,2,3,4,3,5,6,6,7]\n",
        "numbers.remove(3)\n",
        "print(numbers)"
      ],
      "metadata": {
        "colab": {
          "base_uri": "https://localhost:8080/"
        },
        "id": "zBu6jGI8wkbf",
        "outputId": "2162c72c-4091-409d-f702-35938f7c3a50"
      },
      "execution_count": null,
      "outputs": [
        {
          "output_type": "stream",
          "name": "stdout",
          "text": [
            "[1, 2, 4, 3, 5, 6, 6, 7]\n"
          ]
        }
      ]
    },
    {
      "cell_type": "markdown",
      "source": [
        "* Reverse\n",
        "    \n",
        "    The reverse() method reverses the sorting order of the elements.\n",
        "\n"
      ],
      "metadata": {
        "id": "q_zxoeEQxAXH"
      }
    },
    {
      "cell_type": "code",
      "source": [
        "#reverse\n",
        "numbers = [1,3,5,7,9,2,4,6,8,]\n",
        "numbers.reverse()\n",
        "print(numbers)"
      ],
      "metadata": {
        "colab": {
          "base_uri": "https://localhost:8080/"
        },
        "id": "rn6iZ50dxIbK",
        "outputId": "3a967f9c-1fb1-47b3-8255-fe60c9053290"
      },
      "execution_count": null,
      "outputs": [
        {
          "output_type": "stream",
          "name": "stdout",
          "text": [
            "[8, 6, 4, 2, 9, 7, 5, 3, 1]\n"
          ]
        }
      ]
    },
    {
      "cell_type": "markdown",
      "source": [
        "* Sort\n",
        "   \n",
        "   sort() is a built-in function in Python. This function is defined for lists and used to modify the order of data in the list. The list that contains 'Integers', 'Floating Point Numbers', 'String', or others can be sorted using list. sort(), which is a built-in sort in Python. Syntax: List_name.sort()"
      ],
      "metadata": {
        "id": "f_dFgr36xmkc"
      }
    },
    {
      "cell_type": "code",
      "source": [
        "#sort\n",
        "bikes = [\"duke\", \"ninja\", \"bullet\"]\n",
        "bikes.sort()\n",
        "print(bikes)"
      ],
      "metadata": {
        "colab": {
          "base_uri": "https://localhost:8080/"
        },
        "id": "xqvcuUdIxuGB",
        "outputId": "8143ad96-719e-43d0-e352-21fb5d6ec5ae"
      },
      "execution_count": null,
      "outputs": [
        {
          "output_type": "stream",
          "name": "stdout",
          "text": [
            "['bullet', 'duke', 'ninja']\n"
          ]
        }
      ]
    },
    {
      "cell_type": "markdown",
      "source": [
        "* Min (Minimum)\n",
        "    \n",
        "    The min() function returns the item with the lowest value, or the item with the lowest value in an iterable. If the values are strings, an alphabetically comparison is done."
      ],
      "metadata": {
        "id": "IaNbedG3ysHl"
      }
    },
    {
      "cell_type": "code",
      "source": [
        "#min\n",
        "x = min(5,10)\n",
        "print(x)"
      ],
      "metadata": {
        "colab": {
          "base_uri": "https://localhost:8080/"
        },
        "id": "Fcqj6R-OzQcW",
        "outputId": "ac9159b6-c9a6-4c59-8997-c8e2890205dc"
      },
      "execution_count": null,
      "outputs": [
        {
          "output_type": "stream",
          "name": "stdout",
          "text": [
            "5\n"
          ]
        }
      ]
    },
    {
      "cell_type": "markdown",
      "source": [
        "* Max (Maximum)\n",
        "     \n",
        "     The max() function returns the item with the highest value, or the item with the highest value in an iterable. If the values are strings, an alphabetically comparison is done."
      ],
      "metadata": {
        "id": "hMlz0CnlzbNM"
      }
    },
    {
      "cell_type": "code",
      "source": [
        "#max\n",
        "y = max(10,20)\n",
        "print(y)"
      ],
      "metadata": {
        "colab": {
          "base_uri": "https://localhost:8080/"
        },
        "id": "eZeJKo5mzkbJ",
        "outputId": "c7b65a2b-04f8-4017-e0fd-9d3294f8dbaa"
      },
      "execution_count": null,
      "outputs": [
        {
          "output_type": "stream",
          "name": "stdout",
          "text": [
            "20\n"
          ]
        }
      ]
    }
  ]
}