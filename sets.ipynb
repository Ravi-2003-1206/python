{
  "nbformat": 4,
  "nbformat_minor": 0,
  "metadata": {
    "colab": {
      "provenance": [],
      "gpuType": "T4",
      "authorship_tag": "ABX9TyOScjoVyUY4Hg0bgC4Cow83",
      "include_colab_link": true
    },
    "kernelspec": {
      "name": "python3",
      "display_name": "Python 3"
    },
    "language_info": {
      "name": "python"
    },
    "accelerator": "GPU"
  },
  "cells": [
    {
      "cell_type": "markdown",
      "metadata": {
        "id": "view-in-github",
        "colab_type": "text"
      },
      "source": [
        "<a href=\"https://colab.research.google.com/github/Ravi-2003-1206/python/blob/main/sets.ipynb\" target=\"_parent\"><img src=\"https://colab.research.google.com/assets/colab-badge.svg\" alt=\"Open In Colab\"/></a>"
      ]
    },
    {
      "cell_type": "markdown",
      "source": [],
      "metadata": {
        "id": "L0NRnDHNUaSQ"
      }
    },
    {
      "cell_type": "markdown",
      "source": [
        "# Python sets"
      ],
      "metadata": {
        "id": "yyb3_YxPUcRO"
      }
    },
    {
      "cell_type": "markdown",
      "source": [
        "* Sets are used to store multiple items in a single variable.\n",
        "\n",
        "* Set is one of 4 built-in data types in Python used to store collections of data, the other 3 are List, Tuple, and Dictionary, all with different qualities and usage.\n",
        "\n",
        "* A set is a collection which is unordered, unchangeable*, and unindexed."
      ],
      "metadata": {
        "id": "hqQaqNaTUi-V"
      }
    },
    {
      "cell_type": "markdown",
      "source": [
        "# Creating sets :"
      ],
      "metadata": {
        "id": "rIy2VrRnZCio"
      }
    },
    {
      "cell_type": "code",
      "source": [
        "# creating an empty set\n",
        "#empty_set = set()\n",
        "\n",
        "# creating a set with elements\n",
        "\n",
        "cars = set(['swift','audi','benz'])\n",
        "print(cars)\n",
        "print(type(cars))\n",
        "#duplicats items:-\n",
        "#sets cannot have two items with the same value.\n",
        "a = {1,2,4,5,8,3,9,6,4,88,44,1,3,9,3,}\n",
        "print(a)"
      ],
      "metadata": {
        "colab": {
          "base_uri": "https://localhost:8080/"
        },
        "id": "jH45092cZF-4",
        "outputId": "dcfbcbc3-fc30-4e55-c902-06978582bffc"
      },
      "execution_count": null,
      "outputs": [
        {
          "output_type": "stream",
          "name": "stdout",
          "text": [
            "{'swift', 'benz', 'audi'}\n",
            "<class 'set'>\n",
            "{1, 2, 3, 4, 5, 6, 8, 9, 44, 88}\n"
          ]
        }
      ]
    },
    {
      "cell_type": "markdown",
      "source": [
        "# Add and update set items"
      ],
      "metadata": {
        "id": "ucnduqFVb9va"
      }
    },
    {
      "cell_type": "code",
      "source": [
        "#Add and update set items\n",
        "\n",
        "#add():-set.add adds an individual element to the set\n",
        "a = {1,2,3,4,8,3,5,8,9,5,4,8,6,}\n",
        "a.add(22)\n",
        "print(a)"
      ],
      "metadata": {
        "colab": {
          "base_uri": "https://localhost:8080/"
        },
        "id": "JE4Z8vjucIOb",
        "outputId": "da826b00-8a31-4afa-d28a-672a89e98064"
      },
      "execution_count": null,
      "outputs": [
        {
          "output_type": "stream",
          "name": "stdout",
          "text": [
            "{1, 2, 3, 4, 5, 6, 8, 9, 22}\n"
          ]
        }
      ]
    },
    {
      "cell_type": "code",
      "source": [
        "#update set ()\n",
        "#can pass multiple iterables to it and it will iterate all items\n",
        "a = {'laptop','phones','televisions'}\n",
        "b = {'pencils','books','pens'}\n",
        "c = a.update(b)\n",
        "print(a)"
      ],
      "metadata": {
        "colab": {
          "base_uri": "https://localhost:8080/"
        },
        "id": "SVkFCllpc6Rc",
        "outputId": "8986510e-5653-4d69-9186-9b85f9384569"
      },
      "execution_count": null,
      "outputs": [
        {
          "output_type": "stream",
          "name": "stdout",
          "text": [
            "{'phones', 'books', 'laptop', 'pens', 'televisions', 'pencils'}\n"
          ]
        }
      ]
    },
    {
      "cell_type": "markdown",
      "source": [
        "# Remove an element from a set"
      ],
      "metadata": {
        "id": "QioBLPsFfP64"
      }
    },
    {
      "cell_type": "markdown",
      "source": [
        "The remove() method removes the specified element from the set."
      ],
      "metadata": {
        "id": "TtFI9Hlbf7AS"
      }
    },
    {
      "cell_type": "code",
      "source": [
        "set = {'cars','bikes','buses'}\n",
        "b = set.remove('buses')\n",
        "print(set)"
      ],
      "metadata": {
        "colab": {
          "base_uri": "https://localhost:8080/"
        },
        "id": "Wf0CtGfMgARz",
        "outputId": "7935a3b6-6d63-454d-9f5c-f2809d957f15"
      },
      "execution_count": null,
      "outputs": [
        {
          "output_type": "stream",
          "name": "stdout",
          "text": [
            "{'bikes', 'cars'}\n"
          ]
        }
      ]
    },
    {
      "cell_type": "markdown",
      "source": [
        "# Python set operations"
      ],
      "metadata": {
        "id": "qyxqYmOKg9bI"
      }
    },
    {
      "cell_type": "markdown",
      "source": [
        "In Python, a set is an unordered, mutable collection of unique elements. Mathematical set operations like union, intersection, and difference can be performed on them. Two different sets can be compared with the subset, superset, and disjoint relations. The members of a set must be hashable .\n",
        "\n",
        "\n",
        " 1. union of two sets\n",
        "     \n",
        "     The union() method returns a set that contains all items from the original set\n",
        "\n",
        "union is defind by union() or '|'"
      ],
      "metadata": {
        "id": "4V-c2OVYhB6P"
      }
    },
    {
      "cell_type": "code",
      "source": [
        "from re import X\n",
        "a={1,2,3,4,6}\n",
        "b={3,4,5,2,8}\n",
        "a=a.union(b)\n",
        "print(a)\n",
        "c={8,2,1,4,6}\n",
        "d={9,2,3,4,2,1}\n",
        "d=c|d\n",
        "print(d)\n",
        "v = {'f','h','t','a'}\n",
        "m = {3,5,7,2}\n",
        "v=v.union(m)\n",
        "print(v)\n",
        "f = {'h','g','j','h'}\n",
        "e = {'k','d','l','s'}\n",
        "f=f|e\n",
        "print(f)\n",
        "g = {3,6,5,4,5}\n",
        "h = {4,5,9,0}\n",
        "g=h|g\n",
        "print(g)\n",
        "y = {\"mallu\",\"pati\",\"govind\"}\n",
        "i = {65,78,94}\n",
        "i=y|i\n",
        "print(i)\n",
        "x = {1,5,7,9}\n",
        "z = {8,9,4,6,8}\n",
        "x=x|z\n",
        "print(x)\n",
        "p={1,2,3,4,3,5,3,4,2,3,1,5}\n",
        "s = {5,6,4,5,2,5,1,2,7,5,8,9,2,3,4,}\n",
        "s=p|s\n",
        "print(s)"
      ],
      "metadata": {
        "colab": {
          "base_uri": "https://localhost:8080/"
        },
        "id": "KNmHt58n99eV",
        "outputId": "faee844f-5284-49f0-a980-f85d92b96e1a"
      },
      "execution_count": null,
      "outputs": [
        {
          "output_type": "stream",
          "name": "stdout",
          "text": [
            "{1, 2, 3, 4, 5, 6, 8}\n",
            "{1, 2, 3, 4, 6, 8, 9}\n",
            "{2, 3, 5, 'a', 7, 'h', 't', 'f'}\n",
            "{'s', 'h', 'k', 'l', 'j', 'd', 'g'}\n",
            "{0, 3, 4, 5, 6, 9}\n",
            "{65, 'govind', 'mallu', 94, 'pati', 78}\n",
            "{1, 4, 5, 6, 7, 8, 9}\n",
            "{1, 2, 3, 4, 5, 6, 7, 8, 9}\n"
          ]
        }
      ]
    },
    {
      "cell_type": "markdown",
      "source": [],
      "metadata": {
        "id": "qjMulfS9-pDv"
      }
    },
    {
      "cell_type": "markdown",
      "source": [
        "2. Intersection"
      ],
      "metadata": {
        "id": "EhysQ5V8-qpz"
      }
    },
    {
      "cell_type": "markdown",
      "source": [
        "The intersection of two sets of its include the elements between two sets.\n",
        "\n",
        "it defined by '&'."
      ],
      "metadata": {
        "id": "74UpjZQu-v8n"
      }
    },
    {
      "cell_type": "code",
      "source": [
        "a = {5,6,4,5,2,5}\n",
        "b = {2,3,4,6,5,1}\n",
        "a=a&b\n",
        "print(a)\n",
        "c={8,2,1,4,6}\n",
        "d={9,2,3,4,2,1}\n",
        "d=c&d\n",
        "print(d)\n",
        "v = {'f','h',8,2,'t','a'}\n",
        "m = {3,5,7,'t','a',2}\n",
        "v=v.intersection(m)\n",
        "print(v)\n",
        "f = {'h','g','j','h'}\n",
        "e = {'k','g','l','h'}\n",
        "f=f&e\n",
        "print(f)\n",
        "g = {3,6,5,4,5}\n",
        "h = {4,5,9,0}\n",
        "g=h&g\n",
        "print(g)\n",
        "y = {67,89,65,93,94,70,}\n",
        "i = {65,78,94}\n",
        "i=y&i\n",
        "print(i)\n",
        "x = {1,5,7,8,4,9}\n",
        "z = {8,9,4,6,8}\n",
        "x=x&z\n",
        "print(x)\n",
        "p={1,2,3,4,3,5,3,4,2,3,1,5}\n",
        "s = {5,6,4,5,2,5,1,2,7,5,8,9,2,3,4,}\n",
        "s=p&s\n",
        "print(s)"
      ],
      "metadata": {
        "colab": {
          "base_uri": "https://localhost:8080/"
        },
        "id": "iNrOOA6-_CkL",
        "outputId": "ae5ff128-1f14-4ac8-a3f1-3e9ecfa28f66"
      },
      "execution_count": null,
      "outputs": [
        {
          "output_type": "stream",
          "name": "stdout",
          "text": [
            "{2, 4, 5, 6}\n",
            "{1, 2, 4}\n",
            "{2, 't', 'a'}\n",
            "{'h', 'g'}\n",
            "{4, 5}\n",
            "{65, 94}\n",
            "{8, 9, 4}\n",
            "{1, 2, 3, 4, 5}\n"
          ]
        }
      ]
    },
    {
      "cell_type": "markdown",
      "source": [
        "3. Difference"
      ],
      "metadata": {
        "id": "oXJrvvvt_j-W"
      }
    },
    {
      "cell_type": "markdown",
      "source": [
        "It is used to difference the between the two sets, include elements of set A that are not present on set B."
      ],
      "metadata": {
        "id": "jkr_Tatu_ouj"
      }
    },
    {
      "cell_type": "code",
      "source": [
        "a= {5,6,4,5,2,5}\n",
        "b = {2,3,4,6,5,1}\n",
        "a=a-b\n",
        "print(a)\n",
        "c={8,2,1,4,6}\n",
        "d={9,2,3,4,2,1}\n",
        "d=c-d\n",
        "print(d)\n",
        "v = {'f','h',8,2,'t','a'}\n",
        "m = {3,5,7,'t','a',2}\n",
        "v=v-m\n",
        "print(v)\n",
        "f = {'h','g','j','h'}\n",
        "e = {'k','g','l','h'}\n",
        "f=f-e\n",
        "print(f)\n",
        "g = {3,6,5,4,5}\n",
        "h = {4,5,9,0}\n",
        "g=h-g\n",
        "print(g)\n",
        "y = {67,89,65,93,94,70,}\n",
        "i = {65,78,94}\n",
        "i=y-i\n",
        "print(i)\n",
        "x = {1,5,7,8,4,9}\n",
        "z = {8,9,4,6,8}\n",
        "x=x-z\n",
        "print(x)\n",
        "p={1,2,3,4,3,5,3,4,2,3,1,5}\n",
        "s = {5,6,4,5,2,5,1,2,7,5,8,9,2,3,4,}\n",
        "s=s-p\n",
        "print(s)\n",
        "\n"
      ],
      "metadata": {
        "colab": {
          "base_uri": "https://localhost:8080/"
        },
        "id": "zxsk7rAFASSD",
        "outputId": "eb38a8bc-298e-46dd-80e0-5223abec7f3e"
      },
      "execution_count": null,
      "outputs": [
        {
          "output_type": "stream",
          "name": "stdout",
          "text": [
            "set()\n",
            "{8, 6}\n",
            "{8, 'h', 'f'}\n",
            "{'j'}\n",
            "{0, 9}\n",
            "{89, 67, 93, 70}\n",
            "{1, 5, 7}\n",
            "{8, 9, 6, 7}\n"
          ]
        }
      ]
    },
    {
      "cell_type": "markdown",
      "source": [
        "# Sets of Symmetric Differenc.\n",
        "\n",
        "Symmetric Differenc between two sets A and B includeing all elements of A and B without common elements.\n",
        "It defind by '^'."
      ],
      "metadata": {
        "id": "WctUT-dEAc8p"
      }
    },
    {
      "cell_type": "code",
      "source": [
        "a= {5,6,4,5,2,5}\n",
        "b = {2,3,4,6,5,1}\n",
        "a=a^b\n",
        "print(a)\n",
        "c={8,2,1,4,6}\n",
        "d={9,2,3,4,2,1}\n",
        "d=c^d\n",
        "print(d)\n",
        "v = {'f','h',8,2,'t','a'}\n",
        "m = {3,5,7,'t','a',2}\n",
        "v=v^m\n",
        "print(v)\n",
        "f = {'h','g','j','h'}\n",
        "e = {'k','g','l','h'}\n",
        "f=f^e\n",
        "print(f)\n",
        "g = {3,6,5,4,5}\n",
        "h = {4,5,9,0}\n",
        "g=h^g\n",
        "print(g)\n",
        "y = {67,89,65,93,94,70,}\n",
        "i = {65,78,94}\n",
        "i=y^i\n",
        "print(i)\n",
        "x = {1,5,7,8,4,9}\n",
        "z = {8,9,4,6,8}\n",
        "x=x^z\n",
        "print(x)\n",
        "p={1,2,3,4,3,5,3,4,2,3,1,5}\n",
        "s = {5,6,4,5,2,5,1,2,7,5,8,9,2,3,4,}\n",
        "s=s^p\n",
        "print(s)"
      ],
      "metadata": {
        "colab": {
          "base_uri": "https://localhost:8080/"
        },
        "id": "0UsR1Dm0AbMb",
        "outputId": "50e8e02c-24e0-494f-ffa0-c3dfcf473b30"
      },
      "execution_count": null,
      "outputs": [
        {
          "output_type": "stream",
          "name": "stdout",
          "text": [
            "{1, 3}\n",
            "{3, 6, 8, 9}\n",
            "{3, 'h', 5, 7, 8, 'f'}\n",
            "{'j', 'k', 'l'}\n",
            "{0, 3, 6, 9}\n",
            "{67, 70, 78, 89, 93}\n",
            "{1, 5, 6, 7}\n",
            "{6, 7, 8, 9}\n"
          ]
        }
      ]
    }
  ]
}